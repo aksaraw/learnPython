{
 "metadata": {
  "language_info": {
   "codemirror_mode": {
    "name": "ipython",
    "version": 3
   },
   "file_extension": ".py",
   "mimetype": "text/x-python",
   "name": "python",
   "nbconvert_exporter": "python",
   "pygments_lexer": "ipython3",
   "version": "3.8.3-final"
  },
  "orig_nbformat": 2,
  "kernelspec": {
   "name": "Python 3.8.3 64-bit ('base': conda)",
   "display_name": "Python 3.8.3 64-bit ('base': conda)",
   "metadata": {
    "interpreter": {
     "hash": "130913a89e972d762c4d808331307ce276c7c3cb5f19b49c3d5a3b9e850363e9"
    }
   }
  }
 },
 "nbformat": 4,
 "nbformat_minor": 2,
 "cells": [
  {
   "cell_type": "code",
   "execution_count": 1,
   "metadata": {},
   "outputs": [
    {
     "output_type": "stream",
     "name": "stdout",
     "text": [
      "1. Gabungan P dan Q : {1, 2, 4, 5, 6, 7, 9, 12, 16, 17, 19}\n2. Gabungan P dan R : {1, 2, 3, 4, 6, 7, 8, 9, 19}\n3. Gabungan Q dan R : {3, 5, 6, 7, 8, 9, 12, 16, 17, 19}\n4. Irisan dari PQ dan QR : {5, 6, 7, 9, 12, 16, 17, 19}\n5. Symmetric  difference dari QR dan PQ : {1, 2, 3, 4, 8}\n"
     ]
    }
   ],
   "source": [
    "p = {1,2,4,7,9,19}\n",
    "q = {5,12,16,17,7,9,19,6}\n",
    "r = {19,6,3,8}\n",
    "\n",
    "pq = p|q\n",
    "pr = p|r\n",
    "qr = q|r\n",
    "iris_pq_qr = pq&qr\n",
    "sd_qr_pq = qr.symmetric_difference(pq)\n",
    "\n",
    "print(f'1. Gabungan P dan Q : {pq}')\n",
    "print(f'2. Gabungan P dan R : {pr}')\n",
    "print(f'3. Gabungan Q dan R : {qr}')\n",
    "print(f'4. Irisan dari PQ dan QR : {iris_pq_qr}')\n",
    "print(f'5. Symmetric  difference dari QR dan PQ : {sd_qr_pq}')"
   ]
  },
  {
   "cell_type": "code",
   "execution_count": null,
   "metadata": {},
   "outputs": [],
   "source": []
  }
 ]
}