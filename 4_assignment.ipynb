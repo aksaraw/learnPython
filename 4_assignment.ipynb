{
 "metadata": {
  "language_info": {
   "codemirror_mode": {
    "name": "ipython",
    "version": 3
   },
   "file_extension": ".py",
   "mimetype": "text/x-python",
   "name": "python",
   "nbconvert_exporter": "python",
   "pygments_lexer": "ipython3",
   "version": "3.8.3-final"
  },
  "orig_nbformat": 2,
  "kernelspec": {
   "name": "Python 3.8.3 64-bit ('base': conda)",
   "display_name": "Python 3.8.3 64-bit ('base': conda)",
   "metadata": {
    "interpreter": {
     "hash": "130913a89e972d762c4d808331307ce276c7c3cb5f19b49c3d5a3b9e850363e9"
    }
   }
  }
 },
 "nbformat": 4,
 "nbformat_minor": 2,
 "cells": [
  {
   "cell_type": "code",
   "execution_count": 6,
   "metadata": {},
   "outputs": [
    {
     "output_type": "stream",
     "name": "stdout",
     "text": [
      "bahasa inggris untuk hari sabtu adalah saturday\n"
     ]
    }
   ],
   "source": [
    "kamus ={\n",
    "    'senin': 'monday',\n",
    "    'selasa': 'tuesday',\n",
    "    'rabu': 'wednesday',\n",
    "    'kamis': 'thursday',\n",
    "    'jumat': 'friday',\n",
    "    'sabtu': 'saturday',\n",
    "    'minggu': 'sunday'\n",
    "}\n",
    "\n",
    "h = input('Masukkan hari : ').lower()\n",
    "print(f'bahasa inggris untuk hari {h} adalah {kamus[h]}')"
   ]
  },
  {
   "cell_type": "code",
   "execution_count": 9,
   "metadata": {},
   "outputs": [
    {
     "output_type": "stream",
     "name": "stdout",
     "text": [
      "bahasa indonesia dari minggu adalah sunday\n"
     ]
    }
   ],
   "source": [
    "INA = list(kamus.keys())\n",
    "ENG = list(kamus.values())\n",
    "\n",
    "h = input('Masukkan hari : ').lower()\n",
    "\n",
    "if h in INA:\n",
    "    print(f'bahasa indonesia dari {h} adalah {kamus[h]}')\n",
    "elif h in ENG:\n",
    "    print(f'bahasa inggris dari {h} adalah {INA[ENG.index(h)]}')\n",
    "\n",
    "# j = INA[ENG.index(h)]\n",
    "# print('translate: ',kamus.get(h,j)) \n",
    "#error handling nya gagal kalau pake kalkulasi/logic wkwkwk"
   ]
  },
  {
   "cell_type": "code",
   "execution_count": null,
   "metadata": {},
   "outputs": [],
   "source": []
  }
 ]
}