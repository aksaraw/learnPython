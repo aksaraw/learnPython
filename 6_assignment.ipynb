{
 "metadata": {
  "language_info": {
   "codemirror_mode": {
    "name": "ipython",
    "version": 3
   },
   "file_extension": ".py",
   "mimetype": "text/x-python",
   "name": "python",
   "nbconvert_exporter": "python",
   "pygments_lexer": "ipython3",
   "version": "3.8.3-final"
  },
  "orig_nbformat": 2,
  "kernelspec": {
   "name": "python3",
   "display_name": "Python 3"
  }
 },
 "nbformat": 4,
 "nbformat_minor": 2,
 "cells": [
  {
   "cell_type": "code",
   "execution_count": 1,
   "metadata": {},
   "outputs": [
    {
     "output_type": "stream",
     "name": "stdout",
     "text": [
      "1\n2 adalah bilangan genap\n3\n4 adalah bilangan genap\n5\n6 adalah bilangan genap\n7\n8 adalah bilangan genap\n9\n10 adalah bilangan genap\n11\n12 adalah bilangan genap\n13\n14 adalah bilangan genap\n15\n16 adalah bilangan genap\n17\n18 adalah bilangan genap\n19\n20 adalah bilangan genap\n"
     ]
    }
   ],
   "source": [
    "i = 1\n",
    "while i <=20:\n",
    "    if i%2==0:\n",
    "        print(i,'adalah bilangan genap')\n",
    "    else:\n",
    "        print(i)\n",
    "    i+=1"
   ]
  },
  {
   "cell_type": "code",
   "execution_count": 3,
   "metadata": {},
   "outputs": [
    {
     "output_type": "stream",
     "name": "stdout",
     "text": [
      "Password Incorrect\n",
      "Password Correct\n"
     ]
    }
   ],
   "source": [
    "i = 1\n",
    "password = '12345'\n",
    "\n",
    "while i <= 4:\n",
    "    masuk = input('Msukkan Password: ')\n",
    "    if masuk != password and i <= 3:\n",
    "        print('Password Incorrect')\n",
    "    elif masuk != password and i == 4:\n",
    "        print('Try again later')\n",
    "    elif masuk == password:\n",
    "        print('Password Correct')\n",
    "        break\n",
    "    i += 1"
   ]
  },
  {
   "cell_type": "code",
   "execution_count": 4,
   "metadata": {},
   "outputs": [
    {
     "output_type": "stream",
     "name": "stdout",
     "text": [
      "mokon noso\n"
     ]
    }
   ],
   "source": [
    "vokal = ['a', 'i', 'u', 'e', 'o']\n",
    "kalimat = input('Masukkan kalimat: ')\n",
    "kalimat2 = ''\n",
    "for i in kalimat:\n",
    "    if i in vokal:\n",
    "        huruf = 'o'\n",
    "    else: huruf = i\n",
    "    kalimat2 += huruf\n",
    "print(kalimat2)"
   ]
  },
  {
   "cell_type": "code",
   "execution_count": 7,
   "metadata": {},
   "outputs": [
    {
     "output_type": "stream",
     "name": "stdout",
     "text": [
      "24\n"
     ]
    }
   ],
   "source": [
    "def factorial(n):\n",
    "    if n < 0:\n",
    "        return 'must be positive digit'\n",
    "    if n == 0:\n",
    "        return 1\n",
    "    if n == 1:\n",
    "        return 1\n",
    "    return n * factorial(n - 1) #recursive\n",
    "\n",
    "user_input = int(input('Masukkan angka'))\n",
    "print(factorial(user_input))"
   ]
  },
  {
   "cell_type": "code",
   "execution_count": 8,
   "metadata": {},
   "outputs": [
    {
     "output_type": "stream",
     "name": "stdout",
     "text": [
      "24\n"
     ]
    }
   ],
   "source": [
    "def factorial(n):\n",
    "    result = 1\n",
    "\n",
    "    if n < 0 :\n",
    "        return 'Must be positive int'\n",
    "    else:\n",
    "        i = 1\n",
    "        while i <= n:\n",
    "            result *= i\n",
    "            i += 1\n",
    "    return result\n",
    "\n",
    "n = int(input('Masukkan n : '))\n",
    "print(factorial(n))"
   ]
  },
  {
   "cell_type": "code",
   "execution_count": 9,
   "metadata": {},
   "outputs": [
    {
     "output_type": "stream",
     "name": "stdout",
     "text": [
      "1\n2\nfizz\n4\nbuzz\nfizz\n7\n8\nfizz\nbuzz\n11\nfizz\n13\n14\nfizzbuzz\n"
     ]
    }
   ],
   "source": [
    "def fizzbuzz(x):\n",
    "    i = 1\n",
    "    for i in range(1,x+1):\n",
    "        if i%5 == 0 and i%3 == 0:\n",
    "            print ('fizzbuzz')\n",
    "        elif i%3 == 0:\n",
    "            print('fizz')\n",
    "        elif i%5 == 0:\n",
    "            print ('buzz')\n",
    "        else:\n",
    "            print(i)\n",
    "\n",
    "fizzbuzz(15)"
   ]
  },
  {
   "cell_type": "code",
   "execution_count": 11,
   "metadata": {},
   "outputs": [
    {
     "output_type": "stream",
     "name": "stdout",
     "text": [
      "reverse dari ['1', '2', '8', '1', '0', '5', '6', '7'] adalah ['7', '6', '5', '0', '1', '8', '2', '1']\n"
     ]
    }
   ],
   "source": [
    "# data = [1,2,8,10,5,6,7]\n",
    "data = list(input('Masukkan angka: '))\n",
    "a=1\n",
    "data_rev = []\n",
    "\n",
    "for i in data:\n",
    "    tambah = data[len(data)-a]\n",
    "    data_rev.append(tambah)\n",
    "    a+=1\n",
    "\n",
    "print(f'reverse dari {data} adalah {data_rev}')"
   ]
  },
  {
   "cell_type": "code",
   "execution_count": 12,
   "metadata": {},
   "outputs": [
    {
     "output_type": "stream",
     "name": "stdout",
     "text": [
      "Is word hahahah a palindrome = True\n"
     ]
    }
   ],
   "source": [
    "data = input('Enter a word: ').lower()\n",
    "i=0\n",
    "a=1\n",
    "data_rev = ''\n",
    "\n",
    "for i in data:\n",
    "    x = len(data)-a\n",
    "    data_rev += data[x]\n",
    "    a+=1\n",
    "\n",
    "if data == data_rev:\n",
    "    res = True\n",
    "else:\n",
    "    res = False\n",
    "\n",
    "print(f'Is word {data} a palindrome = {res}')"
   ]
  },
  {
   "cell_type": "code",
   "execution_count": 13,
   "metadata": {},
   "outputs": [
    {
     "output_type": "stream",
     "name": "stdout",
     "text": [
      "* \n* * \n* * * \n* * * * \n* * * * * \n* * * * * * \n"
     ]
    }
   ],
   "source": [
    "def segitigaSiku(x):\n",
    "    for i in range(1,x+1): #1-6\n",
    "        for j in range(i): #1\n",
    "            print('*', end=\" \")\n",
    "        print('')\n",
    "segitigaSiku(6)"
   ]
  },
  {
   "cell_type": "code",
   "execution_count": 14,
   "metadata": {},
   "outputs": [
    {
     "output_type": "stream",
     "name": "stdout",
     "text": [
      "* * * * * * \n* * * * * \n* * * * \n* * * \n* * \n* \n"
     ]
    }
   ],
   "source": [
    "def segitigaSikuz(x):\n",
    "    for i in range(1,x+1): #1-6\n",
    "        for j in range(x+1-i): #1\n",
    "            print('*', end=\" \")\n",
    "        print('')\n",
    "segitigaSikuz(6)"
   ]
  },
  {
   "cell_type": "code",
   "execution_count": 15,
   "metadata": {},
   "outputs": [
    {
     "output_type": "stream",
     "name": "stdout",
     "text": [
      "1 \n1 2 \n1 2 3 \n1 2 3 4 \n1 2 3 4 5 \n1 2 3 4 5 6 \n1 2 3 4 5 6 7 \n1 2 3 4 5 6 7 8 \n1 2 3 4 5 6 7 8 9 \n1 2 3 4 5 6 7 8 9 10 \n"
     ]
    }
   ],
   "source": [
    "for i in range(1,11): #10\n",
    "    for j in range(i):\n",
    "        print(j+1, end=\" \")\n",
    "    print(\"\")"
   ]
  },
  {
   "cell_type": "code",
   "execution_count": 16,
   "metadata": {},
   "outputs": [
    {
     "output_type": "stream",
     "name": "stdout",
     "text": [
      "10 \n9 10 \n8 9 10 \n7 8 9 10 \n6 7 8 9 10 \n5 6 7 8 9 10 \n4 5 6 7 8 9 10 \n3 4 5 6 7 8 9 10 \n2 3 4 5 6 7 8 9 10 \n1 2 3 4 5 6 7 8 9 10 \n"
     ]
    }
   ],
   "source": [
    "for i in range(1,11): #10\n",
    "    for j in range(i):\n",
    "        print(j+11-i, end=\" \")\n",
    "    print(\"\")"
   ]
  },
  {
   "cell_type": "code",
   "execution_count": 17,
   "metadata": {},
   "outputs": [
    {
     "output_type": "stream",
     "name": "stdout",
     "text": [
      "* * * * * * * * * * \n* * * * * * * * * \n* * * * * * * * \n* * * * * * * \n* * * * * * \n* * * * * \n* * * * \n* * * \n* * \n* \n"
     ]
    }
   ],
   "source": [
    "def bintang(x):\n",
    "    for i in range(x):\n",
    "        bintangs = ''\n",
    "        for j in range (x-i):\n",
    "            bintangs += '* '\n",
    "        print(bintangs)\n",
    "\n",
    "bintang(10)"
   ]
  },
  {
   "cell_type": "code",
   "execution_count": 18,
   "metadata": {},
   "outputs": [
    {
     "output_type": "stream",
     "name": "stdout",
     "text": [
      "* * * * * * * * * * \n* * * * * * * * * \n* * * * * * * * \n* * * * * * * \n* * * * * * \n* * * * * \n* * * * \n* * * \n* * \n* \n"
     ]
    }
   ],
   "source": [
    "def bingtang2(x):\n",
    "    for i in reversed(range(1,x+1)):\n",
    "        bintang = \"* \"*i\n",
    "        print(bintang)\n",
    "\n",
    "bingtang2(10)"
   ]
  },
  {
   "cell_type": "code",
   "execution_count": 19,
   "metadata": {},
   "outputs": [
    {
     "output_type": "stream",
     "name": "stdout",
     "text": [
      "[1, 4, 9, 16]\n"
     ]
    }
   ],
   "source": [
    "masuk = [1,2,3,4]\n",
    "hasil = list(map(lambda a: a**2, masuk))\n",
    "print(hasil)"
   ]
  },
  {
   "cell_type": "code",
   "execution_count": null,
   "metadata": {},
   "outputs": [],
   "source": []
  }
 ]
}