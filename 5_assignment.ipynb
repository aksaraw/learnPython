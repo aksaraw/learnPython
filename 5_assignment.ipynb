{
 "metadata": {
  "language_info": {
   "codemirror_mode": {
    "name": "ipython",
    "version": 3
   },
   "file_extension": ".py",
   "mimetype": "text/x-python",
   "name": "python",
   "nbconvert_exporter": "python",
   "pygments_lexer": "ipython3",
   "version": "3.8.3-final"
  },
  "orig_nbformat": 2,
  "kernelspec": {
   "name": "python3",
   "display_name": "Python 3"
  }
 },
 "nbformat": 4,
 "nbformat_minor": 2,
 "cells": [
  {
   "cell_type": "code",
   "execution_count": 1,
   "metadata": {},
   "outputs": [
    {
     "output_type": "stream",
     "name": "stdout",
     "text": [
      "Hello\n"
     ]
    }
   ],
   "source": [
    "#beta()['hello'][2]()()[1][2]['test']()\n",
    "\n",
    "def beta():\n",
    "    return {'hello': ['0','1',aha]}\n",
    "\n",
    "def aha():\n",
    "    return uhu\n",
    "\n",
    "def uhu():\n",
    "    return ['0',['0','1',{'test': oho}]]\n",
    "\n",
    "def oho():\n",
    "    print('Hello')\n",
    "\n",
    "beta()['hello'][2]()()[1][2]['test']()"
   ]
  },
  {
   "cell_type": "code",
   "execution_count": null,
   "metadata": {},
   "outputs": [],
   "source": []
  }
 ]
}