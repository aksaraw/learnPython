{
 "metadata": {
  "language_info": {
   "codemirror_mode": {
    "name": "ipython",
    "version": 3
   },
   "file_extension": ".py",
   "mimetype": "text/x-python",
   "name": "python",
   "nbconvert_exporter": "python",
   "pygments_lexer": "ipython3",
   "version": "3.8.3-final"
  },
  "orig_nbformat": 2,
  "kernelspec": {
   "name": "Python 3.8.3 64-bit ('base': conda)",
   "display_name": "Python 3.8.3 64-bit ('base': conda)",
   "metadata": {
    "interpreter": {
     "hash": "130913a89e972d762c4d808331307ce276c7c3cb5f19b49c3d5a3b9e850363e9"
    }
   }
  }
 },
 "nbformat": 4,
 "nbformat_minor": 2,
 "cells": [
  {
   "cell_type": "code",
   "execution_count": 1,
   "metadata": {},
   "outputs": [
    {
     "output_type": "stream",
     "name": "stdout",
     "text": [
      "Angka 29 termasuk bilangan ganjil\n"
     ]
    }
   ],
   "source": [
    "x = int(input('Masukkan angka : '))\n",
    "if x%2 == 0:\n",
    "    print(f'Angka {x} termasuk bilangan genap')\n",
    "else:\n",
    "    print(f'Angka {x} termasuk bilangan ganjil')"
   ]
  },
  {
   "cell_type": "code",
   "execution_count": 2,
   "metadata": {},
   "outputs": [
    {
     "output_type": "stream",
     "name": "stdout",
     "text": [
      "Berat badan anda adalah 71 kg\nTinggi badan anda adalah 1.86 m\nBerat badan anda ideal\n"
     ]
    }
   ],
   "source": [
    "bb = int(input('Masukkan berat badan anda dalam kg: '))\n",
    "tb = int(input('Masukkan tinggi badan anda dalam cm: '))\n",
    "imt = ((bb/tb)/tb)*10000\n",
    "\n",
    "print(f'Berat badan anda adalah {bb} kg')\n",
    "print(f'Tinggi badan anda adalah {tb/100} m')\n",
    "\n",
    "if imt<18.5:\n",
    "    print('Berat badan anda kurang')\n",
    "elif imt >= 18.5 and imt <=24.9:\n",
    "    print('Berat badan anda ideal')\n",
    "elif imt > 24.9 and imt <=29.9:\n",
    "    print('Berat Badan anda berlebih')\n",
    "elif imt > 29.9 and imt <=39.9:\n",
    "    print('Berat Badan anda sangat berlebih')\n",
    "else:\n",
    "    ('Berat Badan anda obesitas')"
   ]
  },
  {
   "cell_type": "code",
   "execution_count": 3,
   "metadata": {},
   "outputs": [
    {
     "output_type": "stream",
     "name": "stdout",
     "text": [
      "Total belanja anda adalah IDR 540000\n"
     ]
    }
   ],
   "source": [
    "beli = int(input('Berapa pisang yang ingin anda beli? '))\n",
    "hargaTotal = 3000*beli\n",
    "if hargaTotal >= 100000:\n",
    "    disc = 0.1\n",
    "elif hargaTotal >= 50000 and hargaTotal < 100000:\n",
    "    disc = 0.05\n",
    "else: disc = 0\n",
    "\n",
    "nilaiDisc = hargaTotal*disc\n",
    "hargaAkhir = int(hargaTotal-nilaiDisc)\n",
    "print(f'Total belanja anda adalah IDR {hargaAkhir}') "
   ]
  },
  {
   "cell_type": "code",
   "execution_count": 4,
   "metadata": {},
   "outputs": [
    {
     "output_type": "stream",
     "name": "stdout",
     "text": [
      "Selamat anda mendapatkan bonus! Total gaji anda IDR 110000\n"
     ]
    }
   ],
   "source": [
    "gaji = int(input('Berapa gaji anda? '))\n",
    "yos = int(input('Berapa year of service anda? '))\n",
    "\n",
    "if yos >= 10:\n",
    "    bonus = 0.1\n",
    "    nilaiBonus = gaji*bonus\n",
    "    totalGaji = int(gaji+nilaiBonus)\n",
    "    print(f'Selamat anda mendapatkan bonus! Total gaji anda IDR {totalGaji}')\n",
    "else: print(f'Anda tidak mendapatkan bonus! Total gaji anda IDR {gaji}')"
   ]
  },
  {
   "cell_type": "code",
   "execution_count": 6,
   "metadata": {},
   "outputs": [
    {
     "output_type": "stream",
     "name": "stdout",
     "text": [
      "user_2 adalah yang paling tua\n"
     ]
    }
   ],
   "source": [
    "umur1 = int(input('umur user_1 = '))\n",
    "umur2 = int(input('umur user_2 = '))\n",
    "umur3 = int(input('umur user_3 = '))\n",
    "\n",
    "if umur1 > umur2 and umur1 > umur3:\n",
    "    print('user_1 adalah yang paling tua')\n",
    "elif umur2 > umur1 and umur2 > umur3:\n",
    "    print('user_2 adalah yang paling tua')\n",
    "elif umur3 > umur1 and umur3 > umur2:\n",
    "    print('user_3 adalah yang paling tua')    \n",
    "else: print('tidak ada yang lebih tua') "
   ]
  },
  {
   "cell_type": "code",
   "execution_count": 7,
   "metadata": {},
   "outputs": [
    {
     "output_type": "stream",
     "name": "stdout",
     "text": [
      "Total kehadiran anda 74%. Anda tidak diperbolehkan mengikuti ujian\n"
     ]
    }
   ],
   "source": [
    "jmlKls = int(input('total kelas yang diadakan: '))\n",
    "att = int(input('total attendances: '))\n",
    "persen = int(att/jmlKls*100)\n",
    "\n",
    "if persen >= 75:\n",
    "    print(f'Total kehadiran anda {persen}%. Anda diperbolehkan mengikuti ujian')\n",
    "else: print(f'Total kehadiran anda {persen}%. Anda tidak diperbolehkan mengikuti ujian')"
   ]
  },
  {
   "cell_type": "code",
   "execution_count": null,
   "metadata": {},
   "outputs": [],
   "source": []
  }
 ]
}