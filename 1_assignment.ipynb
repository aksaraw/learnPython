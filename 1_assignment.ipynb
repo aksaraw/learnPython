{
 "metadata": {
  "language_info": {
   "codemirror_mode": {
    "name": "ipython",
    "version": 3
   },
   "file_extension": ".py",
   "mimetype": "text/x-python",
   "name": "python",
   "nbconvert_exporter": "python",
   "pygments_lexer": "ipython3",
   "version": "3.8.3-final"
  },
  "orig_nbformat": 2,
  "kernelspec": {
   "name": "Python 3.8.3 64-bit ('anaconda3': virtualenv)",
   "display_name": "Python 3.8.3 64-bit ('anaconda3': virtualenv)",
   "metadata": {
    "interpreter": {
     "hash": "130913a89e972d762c4d808331307ce276c7c3cb5f19b49c3d5a3b9e850363e9"
    }
   }
  }
 },
 "nbformat": 4,
 "nbformat_minor": 2,
 "cells": [
  {
   "source": [
    "#1\n",
    "x = 4\n",
    "y = 3\n",
    "z = 2\n",
    "w = ((x+y*z)/(x*y))**z\n",
    "print(w)"
   ],
   "cell_type": "code",
   "metadata": {},
   "execution_count": 10,
   "outputs": [
    {
     "output_type": "stream",
     "name": "stdout",
     "text": [
      "0.6944444444444445\n"
     ]
    }
   ]
  },
  {
   "cell_type": "code",
   "execution_count": 11,
   "metadata": {},
   "outputs": [
    {
     "output_type": "stream",
     "name": "stdout",
     "text": [
      "Kuadrat dari 6 = 36\n"
     ]
    }
   ],
   "source": [
    "#2\n",
    "a = input('Silakan masukkan angka berapapun : ')\n",
    "print('Kuadrat dari',a,'=',int(a)**2)"
   ]
  },
  {
   "cell_type": "code",
   "execution_count": 13,
   "metadata": {},
   "outputs": [
    {
     "output_type": "stream",
     "name": "stdout",
     "text": [
      "1000 hari terdiri dari :\n2 tahun\n9 bulan\n1 minggu\n3 hari\n"
     ]
    }
   ],
   "source": [
    "#3\n",
    "inputHari = int(input('Silakan masukkan jumlah hari : '))\n",
    "\n",
    "tahun = int(inputHari)/360\n",
    "bulan = int(inputHari%360/30)\n",
    "minggu = int(inputHari%360%30/7)\n",
    "hari = int(inputHari%360%30%7)\n",
    "\n",
    "print(inputHari,'hari terdiri dari :')\n",
    "print(int(tahun),'tahun')\n",
    "print(bulan,'bulan')\n",
    "print(int(minggu),'minggu')\n",
    "print(int(hari),'hari')"
   ]
  },
  {
   "cell_type": "code",
   "execution_count": 14,
   "metadata": {},
   "outputs": [
    {
     "output_type": "stream",
     "name": "stdout",
     "text": [
      "Umur Budi saat ini: 34.285714285714285 tahun\nUmur Andi saat ini: 13.714285714285715 tahun\nUmur Budi 2 tahun lagi: 36.285714285714285 tahun\nUmur Andi 2 tahun lagi: 15.714285714285715 tahun\n"
     ]
    }
   ],
   "source": [
    "#4\n",
    "jumlahUmur = input('Silakan masukkan jumlah umur : ')\n",
    "rasio = input('Silakan masukkan rasio umur : ')\n",
    "\n",
    "budi = float(str(jumlahUmur))/(1+float(rasio))\n",
    "andi = float(jumlahUmur)-budi\n",
    "\n",
    "print('Umur Budi saat ini:',budi,'tahun')\n",
    "print('Umur Andi saat ini:',andi,'tahun')\n",
    "\n",
    "print('Umur Budi 2 tahun lagi:',budi+2,'tahun')\n",
    "print('Umur Andi 2 tahun lagi:',andi+2,'tahun')"
   ]
  },
  {
   "cell_type": "code",
   "execution_count": 15,
   "metadata": {},
   "outputs": [
    {
     "output_type": "stream",
     "name": "stdout",
     "text": [
      "\"makan nasi\" memiliki huruf 'a' sebanyak 3 buah\n"
     ]
    }
   ],
   "source": [
    "#5\n",
    "kalimat = input('Masukkan kalimat: ')\n",
    "car = input('Masukkan character yang dicari: ')\n",
    "jumlah = kalimat.count(car)\n",
    "print('\"'+kalimat+'\"','memiliki huruf',\"'\"+car+\"'\",'sebanyak',jumlah,'buah')"
   ]
  },
  {
   "cell_type": "code",
   "execution_count": 16,
   "metadata": {},
   "outputs": [
    {
     "output_type": "stream",
     "name": "stdout",
     "text": [
      "Waktu yang dibutuhkan untuk tabrakan: 42 menit\nJam tabrakan 9:42\n"
     ]
    }
   ],
   "source": [
    "#6\n",
    "jarak = input('Masukkan jarak: ')\n",
    "vA = input('Masukkan kecepatan mobil A: ')\n",
    "vB = input('Masukkan kecepatan mobil B: ')\n",
    "\n",
    "t = float(int(jarak))/(float(int((vA)))+float(int((vB)))) #waktu tabrakan dalam jam\n",
    "tMenit = t*60 #waktu tabrakan dalam menit\n",
    "\n",
    "start = 9 #jam berangkat\n",
    "startMenit = start*60 #jam berangkat dalam menit\n",
    "\n",
    "end = startMenit+tMenit #jam tabrakan dalam menit\n",
    "endJam = int(end/60)\n",
    "endMenit = int(end-(endJam*60))\n",
    "\n",
    "print('Waktu yang dibutuhkan untuk tabrakan:',int(tMenit),'menit')\n",
    "print('Jam tabrakan',str(endJam)+':'+str(endMenit))"
   ]
  },
  {
   "cell_type": "code",
   "execution_count": null,
   "metadata": {},
   "outputs": [],
   "source": []
  }
 ]
}